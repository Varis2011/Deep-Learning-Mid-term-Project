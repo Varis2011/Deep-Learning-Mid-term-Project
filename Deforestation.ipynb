{
 "cells": [
  {
   "cell_type": "code",
   "execution_count": 29,
   "id": "525d0430",
   "metadata": {},
   "outputs": [],
   "source": [
    "import tensorflow as tf\n",
    "import numpy as np\n"
   ]
  },
  {
   "cell_type": "code",
   "execution_count": null,
   "id": "9e641f70",
   "metadata": {},
   "outputs": [],
   "source": []
  },
  {
   "cell_type": "markdown",
   "id": "f5c6031d",
   "metadata": {},
   "source": [
    "DATASET\n",
    "\n",
    "The dataset used is an EuroSat dataset from Kaggle: https://www.kaggle.com/datasets/apollo2506/eurosat-dataset\n",
    "\n",
    "The classes used in this experiment are:\n",
    "AnnualCrop, Forest, HerbaceousVegetation, Highway, Industrial, Pasture, PermanentCrop, Residential,\n",
    "\n",
    "Sealake and river are excluded as they are not related with deforestaion"
   ]
  },
  {
   "cell_type": "code",
   "execution_count": 30,
   "id": "dea38b43",
   "metadata": {},
   "outputs": [],
   "source": [
    "DATA_DIR= r\"D:\\University\\sem5\\Deep Learning\\dataset\""
   ]
  },
  {
   "cell_type": "code",
   "execution_count": 31,
   "id": "f90093bd",
   "metadata": {},
   "outputs": [],
   "source": [
    "def train_val_dataset():\n",
    "    \n",
    "    training_dataset=tf.keras.utils.image_dataset_from_directory(\n",
    "        directory=DATA_DIR,\n",
    "        image_size=(150,150),\n",
    "        batch_size=32,\n",
    "        label_mode= \"categorical\",\n",
    "        validation_split=0.1,\n",
    "        subset=\"training\",\n",
    "        seed=42\n",
    "    )\n",
    "    \n",
    "    \n",
    "    validation_set= tf.keras.utils.image_dataset_from_directory(\n",
    "        directory= DATA_DIR,\n",
    "        image_size=(150,150),\n",
    "        batch_size=32,\n",
    "        label_mode=\"categorical\",\n",
    "        validation_split=0.1,\n",
    "        subset=\"validation\",\n",
    "        seed=42\n",
    "    )\n",
    "    \n",
    "    return training_dataset, validation_set"
   ]
  },
  {
   "cell_type": "code",
   "execution_count": 32,
   "id": "9c71d7b8",
   "metadata": {},
   "outputs": [
    {
     "name": "stdout",
     "output_type": "stream",
     "text": [
      "Found 21500 files belonging to 8 classes.\n",
      "Using 19350 files for training.\n",
      "Found 21500 files belonging to 8 classes.\n",
      "Using 2150 files for validation.\n"
     ]
    }
   ],
   "source": [
    "training_dataset, validation_dataset= train_val_dataset()"
   ]
  },
  {
   "cell_type": "code",
   "execution_count": 33,
   "id": "1fad305f",
   "metadata": {},
   "outputs": [
    {
     "name": "stdout",
     "output_type": "stream",
     "text": [
      "Labels shape: (32, 8)\n",
      "Sample labels: tf.Tensor([0. 0. 1. 0. 0. 0. 0. 0.], shape=(8,), dtype=float32)\n"
     ]
    }
   ],
   "source": [
    "for images, labels in training_dataset.take(1):\n",
    "    print(\"Labels shape:\", labels.shape)\n",
    "    print(\"Sample labels:\", labels[0])\n"
   ]
  },
  {
   "cell_type": "code",
   "execution_count": 34,
   "id": "41d90174",
   "metadata": {},
   "outputs": [
    {
     "name": "stdout",
     "output_type": "stream",
     "text": [
      "Maximum pixel value of images: 255.0\n",
      "\n",
      "Shape of batch of images: (22, 150, 150, 3)\n",
      "Shape of batch of labels: (22, 8)\n",
      "Maximum pixel value of images : 255.0\n",
      "\n",
      "Shape of batch of images: (22, 150, 150, 3)\n",
      "SHape of batch of labels : (22, 8) \n"
     ]
    }
   ],
   "source": [
    "for images, labels in training_dataset:\n",
    "    example_batch_images=images\n",
    "    example_batch_labels=labels\n",
    "    \n",
    "    \n",
    "print(f\"Maximum pixel value of images: {np.max(example_batch_images)}\\n\")\n",
    "print(f\"Shape of batch of images: {example_batch_images.shape}\")\n",
    "print(f\"Shape of batch of labels: {example_batch_labels.shape}\")\n",
    "\n",
    "print(f\"Maximum pixel value of images : {np.max(example_batch_images)}\\n\")\n",
    "print (f\"Shape of batch of images: {example_batch_images.shape}\")\n",
    "print(f\"SHape of batch of labels : {example_batch_labels.shape} \")"
   ]
  },
  {
   "cell_type": "code",
   "execution_count": 35,
   "id": "507c5a74",
   "metadata": {},
   "outputs": [
    {
     "data": {
      "text/plain": [
       "['AnnualCrop',\n",
       " 'Forest',\n",
       " 'HerbaceousVegetation',\n",
       " 'Highway',\n",
       " 'Industrial',\n",
       " 'Pasture',\n",
       " 'PermanentCrop',\n",
       " 'Residential']"
      ]
     },
     "execution_count": 35,
     "metadata": {},
     "output_type": "execute_result"
    }
   ],
   "source": [
    "classnames= training_dataset.class_names\n",
    "classnames"
   ]
  },
  {
   "cell_type": "code",
   "execution_count": 44,
   "id": "da389881",
   "metadata": {},
   "outputs": [],
   "source": [
    "augmentation=tf.keras.Sequential([\n",
    "    tf.keras.Input(shape=(150,150,3)),\n",
    "    tf.keras.layers.RandomFlip(\"horizontal_and_vertical\"),\n",
    "    tf.keras.layers.RandomRotation(0.2, fill_mode=\"reflect\"),\n",
    "    tf.keras.layers.RandomTranslation(0.1, 0.1, fill_mode=\"reflect\"),\n",
    "    tf.keras.layers.RandomZoom(0.2, fill_mode=\"reflect\")\n",
    "])\n"
   ]
  },
  {
   "cell_type": "code",
   "execution_count": 45,
   "id": "4c1f7450",
   "metadata": {},
   "outputs": [],
   "source": [
    "def create_model():\n",
    "    model= tf.keras.models.Sequential([\n",
    "        tf.keras.layers.Input((150,150,3)),\n",
    "        augmentation,\n",
    "        tf.keras.layers.Rescaling((1./255)),\n",
    "        tf.keras.layers.Conv2D(64,(3,3), activation=\"relu\"),\n",
    "        tf.keras.layers.MaxPooling2D((2,2)),\n",
    "        tf.keras.layers.Conv2D(64,(3,3), activation=\"relu\"),\n",
    "        tf.keras.layers.MaxPooling2D((2,2)),\n",
    "        tf.keras.layers.Conv2D(64,(3,3), activation=\"relu\"),\n",
    "        tf.keras.layers.MaxPooling2D((2,2)),\n",
    "        tf.keras.layers.Flatten(),\n",
    "        tf.keras.layers.Dense(128, activation=\"relu\"),\n",
    "        tf.keras.layers.Dropout(0.5),\n",
    "        tf.keras.layers.Dense(8, activation=\"softmax\")\n",
    "    ])\n",
    "    \n",
    "    model.compile(\n",
    "        optimizer=tf.keras.optimizers.Adam(),\n",
    "        loss=tf.keras.losses.CategoricalCrossentropy(),\n",
    "        metrics=[\"accuracy\"]\n",
    "    )\n",
    "    \n",
    "    return model"
   ]
  },
  {
   "cell_type": "code",
   "execution_count": 46,
   "id": "2f5348b7",
   "metadata": {},
   "outputs": [],
   "source": [
    "model= create_model()"
   ]
  },
  {
   "cell_type": "code",
   "execution_count": 47,
   "id": "a0826462",
   "metadata": {},
   "outputs": [
    {
     "name": "stdout",
     "output_type": "stream",
     "text": [
      "Model: \"sequential_9\"\n",
      "_________________________________________________________________\n",
      " Layer (type)                Output Shape              Param #   \n",
      "=================================================================\n",
      " sequential_8 (Sequential)   (None, 150, 150, 3)       0         \n",
      "                                                                 \n",
      " rescaling_3 (Rescaling)     (None, 150, 150, 3)       0         \n",
      "                                                                 \n",
      " conv2d_9 (Conv2D)           (None, 148, 148, 64)      1792      \n",
      "                                                                 \n",
      " max_pooling2d_9 (MaxPoolin  (None, 74, 74, 64)        0         \n",
      " g2D)                                                            \n",
      "                                                                 \n",
      " conv2d_10 (Conv2D)          (None, 72, 72, 64)        36928     \n",
      "                                                                 \n",
      " max_pooling2d_10 (MaxPooli  (None, 36, 36, 64)        0         \n",
      " ng2D)                                                           \n",
      "                                                                 \n",
      " conv2d_11 (Conv2D)          (None, 34, 34, 64)        36928     \n",
      "                                                                 \n",
      " max_pooling2d_11 (MaxPooli  (None, 17, 17, 64)        0         \n",
      " ng2D)                                                           \n",
      "                                                                 \n",
      " flatten_7 (Flatten)         (None, 18496)             0         \n",
      "                                                                 \n",
      " dense_14 (Dense)            (None, 128)               2367616   \n",
      "                                                                 \n",
      " dropout_7 (Dropout)         (None, 128)               0         \n",
      "                                                                 \n",
      " dense_15 (Dense)            (None, 8)                 1032      \n",
      "                                                                 \n",
      "=================================================================\n",
      "Total params: 2444296 (9.32 MB)\n",
      "Trainable params: 2444296 (9.32 MB)\n",
      "Non-trainable params: 0 (0.00 Byte)\n",
      "_________________________________________________________________\n"
     ]
    }
   ],
   "source": [
    "model.summary()"
   ]
  },
  {
   "cell_type": "code",
   "execution_count": null,
   "id": "0d01cf8e",
   "metadata": {},
   "outputs": [],
   "source": [
    "\"\"\"\"\n",
    "class EarlyStoppingCallback(tf.keras.callbacks.Callback):\n",
    "    \n",
    "    def on_epoch_end(self, epoch, logs=None):\n",
    "        if logs[\"accuracy\"]>=0.94 and logs[\"val_accuracy\"]>=0.82:\n",
    "            self.model.stop_training=True\n",
    "\"\"\""
   ]
  },
  {
   "cell_type": "code",
   "execution_count": 48,
   "id": "1cc7a87c",
   "metadata": {},
   "outputs": [
    {
     "name": "stdout",
     "output_type": "stream",
     "text": [
      "Epoch 1/10\n",
      "605/605 [==============================] - 217s 356ms/step - loss: 1.4060 - accuracy: 0.4625 - val_loss: 0.9875 - val_accuracy: 0.6544\n",
      "Epoch 2/10\n",
      "605/605 [==============================] - 213s 352ms/step - loss: 1.0089 - accuracy: 0.6357 - val_loss: 0.8041 - val_accuracy: 0.6986\n",
      "Epoch 3/10\n",
      "605/605 [==============================] - 214s 353ms/step - loss: 0.8589 - accuracy: 0.6909 - val_loss: 0.6434 - val_accuracy: 0.7567\n",
      "Epoch 4/10\n",
      "605/605 [==============================] - 214s 353ms/step - loss: 0.7707 - accuracy: 0.7222 - val_loss: 0.6603 - val_accuracy: 0.7493\n",
      "Epoch 5/10\n",
      "605/605 [==============================] - 215s 356ms/step - loss: 0.7297 - accuracy: 0.7418 - val_loss: 0.5738 - val_accuracy: 0.7912\n",
      "Epoch 6/10\n",
      "605/605 [==============================] - 215s 355ms/step - loss: 0.6713 - accuracy: 0.7634 - val_loss: 0.6048 - val_accuracy: 0.7647\n",
      "Epoch 7/10\n",
      "605/605 [==============================] - 214s 353ms/step - loss: 0.6378 - accuracy: 0.7782 - val_loss: 0.5146 - val_accuracy: 0.8019\n",
      "Epoch 8/10\n",
      "605/605 [==============================] - 219s 363ms/step - loss: 0.6042 - accuracy: 0.7853 - val_loss: 0.5631 - val_accuracy: 0.8060\n",
      "Epoch 9/10\n",
      "605/605 [==============================] - 232s 384ms/step - loss: 0.5725 - accuracy: 0.8037 - val_loss: 0.4196 - val_accuracy: 0.8428\n",
      "Epoch 10/10\n",
      "605/605 [==============================] - 226s 373ms/step - loss: 0.5596 - accuracy: 0.8097 - val_loss: 0.4911 - val_accuracy: 0.8316\n"
     ]
    }
   ],
   "source": [
    "with tf.device('/GPU:0'):\n",
    "    history= model.fit(\n",
    "        training_dataset,\n",
    "        epochs=10,\n",
    "        validation_data= validation_dataset,\n",
    "        #callbacks= [EarlyStoppingCallback()]\n",
    "    )"
   ]
  },
  {
   "cell_type": "code",
   "execution_count": 49,
   "id": "e201ab2c",
   "metadata": {},
   "outputs": [
    {
     "name": "stdout",
     "output_type": "stream",
     "text": [
      "68/68 [==============================] - 6s 87ms/step - loss: 0.4911 - accuracy: 0.8316\n"
     ]
    },
    {
     "data": {
      "text/plain": [
       "[0.49107229709625244, 0.8316279053688049]"
      ]
     },
     "execution_count": 49,
     "metadata": {},
     "output_type": "execute_result"
    }
   ],
   "source": [
    "model.evaluate(validation_dataset)"
   ]
  },
  {
   "cell_type": "code",
   "execution_count": 20,
   "id": "c12ab7db",
   "metadata": {},
   "outputs": [],
   "source": [
    "import tensorflow as tf\n",
    "import numpy as np\n",
    "\n",
    "def predictimage(Impath):\n",
    "    \n",
    "    img= tf.keras.preprocessing.image.load_img(Impath, target_size=(150,150))\n",
    "    img_array= tf.keras.preprocessing.image.img_to_array(img)\n",
    "    img_array = np.expand_dims(img_array, axis=0)\n",
    "\n",
    "    \n",
    "    predictions=model.predict(img_array)\n",
    "    predicted_class=np.argmax(predictions)\n",
    "   \n",
    "    \n",
    "    return f\"the predicted picture is {classnames[predicted_class]}\""
   ]
  },
  {
   "cell_type": "code",
   "execution_count": 21,
   "id": "c5fd6851",
   "metadata": {},
   "outputs": [
    {
     "name": "stdout",
     "output_type": "stream",
     "text": [
      "1/1 [==============================] - 0s 205ms/step\n"
     ]
    },
    {
     "data": {
      "text/plain": [
       "'the predicted picture is Shine'"
      ]
     },
     "execution_count": 21,
     "metadata": {},
     "output_type": "execute_result"
    }
   ],
   "source": [
    "predictimage(r\"D:\\University\\Semester 4\\Pattern Recognition FInal Project\\test image\\sunny3.jpg\")"
   ]
  },
  {
   "cell_type": "code",
   "execution_count": 51,
   "id": "5be2466d",
   "metadata": {},
   "outputs": [
    {
     "data": {
      "image/png": "[encoded data removed]",
      "text/plain": [
       "<Figure size 1000x500 with 2 Axes>"
      ]
     },
     "metadata": {},
     "output_type": "display_data"
    }
   ],
   "source": [
    "import matplotlib.pyplot as plt\n",
    "# Get training and validation accuracies\n",
    "acc = history.history['accuracy']\n",
    "val_acc = history.history['val_accuracy']\n",
    "loss = history.history['loss']\n",
    "val_loss = history.history['val_loss']\n",
    "\n",
    "# Get number of epochs\n",
    "epochs = range(len(acc))\n",
    "\n",
    "fig, ax = plt.subplots(1, 2, figsize=(10, 5))\n",
    "fig.suptitle('Training and validation accuracy')\n",
    "\n",
    "for i, (data, label) in enumerate(zip([(acc, val_acc), (loss, val_loss)], [\"Accuracy\", \"Loss\"])):\n",
    "    ax[i].plot(epochs, data[0], 'r', label=\"Training \" + label)\n",
    "    ax[i].plot(epochs, data[1], 'b', label=\"Validation \" + label)\n",
    "    ax[i].legend()\n",
    "    ax[i].set_xlabel('epochs')\n",
    "\n",
    "plt.show()"
   ]
  },
  {
   "cell_type": "markdown",
   "id": "e6604e8e",
   "metadata": {},
   "source": [
    "Resnet 50"
   ]
  },
  {
   "cell_type": "code",
   "execution_count": 52,
   "id": "cdc4789b",
   "metadata": {},
   "outputs": [],
   "source": [
    "pretrained_model= tf.keras.applications.ResNet50(\n",
    "    include_top=False,\n",
    "    input_shape=(150,150,3),\n",
    "    pooling= \"max\",\n",
    "    classes=8,\n",
    "    weights=\"imagenet\"\n",
    ")"
   ]
  },
  {
   "cell_type": "code",
   "execution_count": 53,
   "id": "1a51f54b",
   "metadata": {},
   "outputs": [],
   "source": [
    "from tensorflow.keras.applications import ResNet50\n"
   ]
  },
  {
   "cell_type": "code",
   "execution_count": 54,
   "id": "d6052999",
   "metadata": {},
   "outputs": [],
   "source": [
    "pretrained_model.trainable = False"
   ]
  },
  {
   "cell_type": "code",
   "execution_count": 55,
   "id": "8ad4b2c4",
   "metadata": {},
   "outputs": [],
   "source": [
    "def create_model2():\n",
    "    model_resnet= tf.keras.models.Sequential([\n",
    "        pretrained_model,\n",
    "        tf.keras.layers.Flatten(),\n",
    "        tf.keras.layers.Dense(512, activation=\"relu\"),\n",
    "        tf.keras.layers.Dropout(0.5),\n",
    "        tf.keras.layers.Dense(8, activation=\"softmax\")\n",
    "    ])\n",
    "    \n",
    "    model_resnet.compile(\n",
    "        optimizer=tf.keras.optimizers.Adam(),\n",
    "        loss=tf.keras.losses.CategoricalCrossentropy(),\n",
    "        metrics=[\"accuracy\"]\n",
    "    )\n",
    "    \n",
    "    return model_resnet"
   ]
  },
  {
   "cell_type": "code",
   "execution_count": 56,
   "id": "8907491e",
   "metadata": {},
   "outputs": [],
   "source": [
    "model_resnet= create_model2()"
   ]
  },
  {
   "cell_type": "code",
   "execution_count": 57,
   "id": "da71a393",
   "metadata": {},
   "outputs": [
    {
     "name": "stdout",
     "output_type": "stream",
     "text": [
      "Model: \"sequential_10\"\n",
      "_________________________________________________________________\n",
      " Layer (type)                Output Shape              Param #   \n",
      "=================================================================\n",
      " resnet50 (Functional)       (None, 2048)              23587712  \n",
      "                                                                 \n",
      " flatten_8 (Flatten)         (None, 2048)              0         \n",
      "                                                                 \n",
      " dense_16 (Dense)            (None, 512)               1049088   \n",
      "                                                                 \n",
      " dropout_8 (Dropout)         (None, 512)               0         \n",
      "                                                                 \n",
      " dense_17 (Dense)            (None, 8)                 4104      \n",
      "                                                                 \n",
      "=================================================================\n",
      "Total params: 24640904 (94.00 MB)\n",
      "Trainable params: 1053192 (4.02 MB)\n",
      "Non-trainable params: 23587712 (89.98 MB)\n",
      "_________________________________________________________________\n"
     ]
    }
   ],
   "source": [
    "model_resnet.summary()"
   ]
  },
  {
   "cell_type": "code",
   "execution_count": 58,
   "id": "434eaa34",
   "metadata": {},
   "outputs": [
    {
     "name": "stdout",
     "output_type": "stream",
     "text": [
      "Epoch 1/10\n",
      "605/605 [==============================] - 391s 641ms/step - loss: 0.5464 - accuracy: 0.8668 - val_loss: 0.1892 - val_accuracy: 0.9414\n",
      "Epoch 2/10\n",
      "605/605 [==============================] - 380s 627ms/step - loss: 0.2642 - accuracy: 0.9162 - val_loss: 0.1610 - val_accuracy: 0.9493\n",
      "Epoch 3/10\n",
      "605/605 [==============================] - 378s 625ms/step - loss: 0.2137 - accuracy: 0.9301 - val_loss: 0.1481 - val_accuracy: 0.9516\n",
      "Epoch 4/10\n",
      "605/605 [==============================] - 378s 625ms/step - loss: 0.1985 - accuracy: 0.9358 - val_loss: 0.1544 - val_accuracy: 0.9502\n",
      "Epoch 5/10\n",
      "605/605 [==============================] - 362s 599ms/step - loss: 0.1775 - accuracy: 0.9427 - val_loss: 0.1782 - val_accuracy: 0.9558\n",
      "Epoch 6/10\n",
      "605/605 [==============================] - 379s 626ms/step - loss: 0.1719 - accuracy: 0.9460 - val_loss: 0.1499 - val_accuracy: 0.9558\n",
      "Epoch 7/10\n",
      "605/605 [==============================] - 347s 574ms/step - loss: 0.1619 - accuracy: 0.9472 - val_loss: 0.1660 - val_accuracy: 0.9563\n",
      "Epoch 8/10\n",
      "605/605 [==============================] - 339s 561ms/step - loss: 0.1441 - accuracy: 0.9537 - val_loss: 0.1365 - val_accuracy: 0.9642\n",
      "Epoch 9/10\n",
      "605/605 [==============================] - 350s 579ms/step - loss: 0.1489 - accuracy: 0.9521 - val_loss: 0.1602 - val_accuracy: 0.9600\n",
      "Epoch 10/10\n",
      "605/605 [==============================] - 373s 616ms/step - loss: 0.1328 - accuracy: 0.9575 - val_loss: 0.1648 - val_accuracy: 0.9549\n"
     ]
    }
   ],
   "source": [
    "with tf.device('/GPU:0'):\n",
    "    history2= model_resnet.fit(\n",
    "        training_dataset,\n",
    "        epochs=10,\n",
    "        validation_data= validation_dataset,\n",
    "        #callbacks= [EarlyStoppingCallback()]\n",
    "    )"
   ]
  },
  {
   "cell_type": "code",
   "execution_count": 60,
   "id": "f57f9dc1",
   "metadata": {},
   "outputs": [
    {
     "data": {
      "image/png": "[encoded data removed]",
      "text/plain": [
       "<Figure size 1000x500 with 2 Axes>"
      ]
     },
     "metadata": {},
     "output_type": "display_data"
    }
   ],
   "source": [
    "import matplotlib.pyplot as plt\n",
    "# Get training and validation accuracies\n",
    "acc2 = history2.history['accuracy']\n",
    "val_acc2 = history2.history['val_accuracy']\n",
    "loss2 = history2.history['loss']\n",
    "val_loss2 = history2.history['val_loss']\n",
    "\n",
    "# Get number of epochs\n",
    "epochs = range(len(acc))\n",
    "\n",
    "fig, ax = plt.subplots(1, 2, figsize=(10, 5))\n",
    "fig.suptitle('Training and validation accuracy')\n",
    "\n",
    "for i, (data, label) in enumerate(zip([(acc2, val_acc2), (loss2, val_loss2)], [\"Accuracy\", \"Loss\"])):\n",
    "    ax[i].plot(epochs, data[0], 'r', label=\"Training \" + label)\n",
    "    ax[i].plot(epochs, data[1], 'b', label=\"Validation \" + label)\n",
    "    ax[i].legend()\n",
    "    ax[i].set_xlabel('epochs')\n",
    "\n",
    "plt.show()"
   ]
  },
  {
   "cell_type": "code",
   "execution_count": 63,
   "id": "342f2490",
   "metadata": {},
   "outputs": [
    {
     "name": "stdout",
     "output_type": "stream",
     "text": [
      "INFO:tensorflow:Assets written to: D:\\University\\sem5\\Deep Learning\\assets\n"
     ]
    },
    {
     "name": "stderr",
     "output_type": "stream",
     "text": [
      "INFO:tensorflow:Assets written to: D:\\University\\sem5\\Deep Learning\\assets\n"
     ]
    }
   ],
   "source": [
    "model.save(r\"D:\\University\\sem5\\Deep Learning\")"
   ]
  },
  {
   "cell_type": "code",
   "execution_count": 67,
   "id": "93cf4e89",
   "metadata": {},
   "outputs": [],
   "source": [
    "model.save(\"model1.h5\")  # saves entire model in HDF5\n"
   ]
  },
  {
   "cell_type": "code",
   "execution_count": 69,
   "id": "c61b9bb1",
   "metadata": {},
   "outputs": [
    {
     "name": "stderr",
     "output_type": "stream",
     "text": [
      "C:\\Users\\asus\\AppData\\Roaming\\Python\\Python311\\site-packages\\keras\\src\\engine\\training.py:3103: UserWarning: You are saving your model as an HDF5 file via `model.save()`. This file format is considered legacy. We recommend using instead the native Keras format, e.g. `model.save('my_model.keras')`.\n",
      "  saving_api.save_model(\n"
     ]
    }
   ],
   "source": [
    "model_resnet.save(\"model_resnet.h5\")"
   ]
  },
  {
   "cell_type": "code",
   "execution_count": 70,
   "id": "de8eb3f4",
   "metadata": {},
   "outputs": [],
   "source": [
    "import json\n",
    "\n",
    "# Save history as JSON\n",
    "with open(\"history.json\", \"w\") as f:\n",
    "    json.dump(history.history, f)\n"
   ]
  },
  {
   "cell_type": "code",
   "execution_count": 71,
   "id": "35721f34",
   "metadata": {},
   "outputs": [],
   "source": [
    "import json\n",
    "\n",
    "# Save history as JSON\n",
    "with open(\"history2.json\", \"w\") as f:\n",
    "    json.dump(history2.history, f)\n"
   ]
  }
 ],
 "metadata": {
  "kernelspec": {
   "display_name": "base",
   "language": "python",
   "name": "python3"
  },
  "language_info": {
   "codemirror_mode": {
    "name": "ipython",
    "version": 3
   },
   "file_extension": ".py",
   "mimetype": "text/x-python",
   "name": "python",
   "nbconvert_exporter": "python",
   "pygments_lexer": "ipython3",
   "version": "3.11.7"
  }
 },
 "nbformat": 4,
 "nbformat_minor": 5
}
